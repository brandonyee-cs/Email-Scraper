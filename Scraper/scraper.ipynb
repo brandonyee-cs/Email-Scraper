{
 "cells": [
  {
   "cell_type": "markdown",
   "metadata": {},
   "source": [
    "# Company Email Scraper\n",
    "\n",
    "This notebook runs the email scraper to find contact information for companies listed in companies.txt using Google Custom Search API."
   ]
  },
  {
   "cell_type": "code",
   "execution_count": null,
   "metadata": {},
   "source": [
    "from scraper import scrape_companies\n",
    "import pandas as pd\n",
    "import matplotlib.pyplot as plt\n",
    "from datetime import datetime"
   ]
  },
  {
   "cell_type": "markdown",
   "metadata": {},
   "source": [
    "## Run the Scraper"
   ]
  },
  {
   "cell_type": "code",
   "execution_count": null,
   "metadata": {},
   "source": [
    "# Record start time\n",
    "start_time = datetime.now()\n",
    "\n",
    "# Run the scraper\n",
    "results_df = scrape_companies()\n",
    "\n",
    "# Calculate runtime\n",
    "runtime = datetime.now() - start_time\n",
    "\n",
    "if results_df is not None:\n",
    "    # Save results\n",
    "    timestamp = datetime.now().strftime('%Y%m%d_%H%M%S')\n",
    "    filename = f'sponsorship_contacts_{timestamp}.csv'\n",
    "    results_df.to_csv(filename, index=False)\n",
    "    \n",
    "    print(f\"\\nResults saved to {filename}\")\n",
    "    print(f\"Runtime: {runtime}\")\n",
    "    print(f\"Processed {len(results_df)} companies\")\n",
    "    \n",
    "    # Display first few results\n",
    "    display(results_df.head())"
   ]
  },
  {
   "cell_type": "markdown",
   "metadata": {},
   "source": [
    "## Analyze Results"
   ]
  },
  {
   "cell_type": "code",
   "execution_count": null,
   "metadata": {},
   "source": [
    "if results_df is not None:\n",
    "    # Calculate statistics\n",
    "    total = len(results_df)\n",
    "    emails_found = len(results_df[~results_df['Emails'].str.startswith(('No ', 'Error'))])\n",
    "    no_website = len(results_df[results_df['Emails'] == 'No website found'])\n",
    "    no_emails = len(results_df[results_df['Emails'] == 'Not found'])\n",
    "    errors = len(results_df[results_df['Emails'].str.startswith('Error')])\n",
    "    \n",
    "    # Create pie chart\n",
    "    labels = ['Emails Found', 'No Website', 'No Emails', 'Errors']\n",
    "    sizes = [emails_found, no_website, no_emails, errors]\n",
    "    colors = ['#2ecc71', '#e74c3c', '#f1c40f', '#95a5a6']\n",
    "    \n",
    "    plt.figure(figsize=(10, 7))\n",
    "    plt.pie(sizes, labels=labels, colors=colors, autopct='%1.1f%%')\n",
    "    plt.title('Scraping Results Distribution')\n",
    "    plt.axis('equal')\n",
    "    plt.show()\n",
    "    \n",
    "    print(f\"\\nDetailed Results:\")\n",
    "    print(f\"Total companies processed: {total}\")\n",
    "    print(f\"Companies with emails found: {emails_found}\")\n",
    "    print(f\"Companies with no website: {no_website}\")\n",
    "    print(f\"Companies with no emails: {no_emails}\")\n",
    "    print(f\"Companies with errors: {errors}\")"
   ]
  },
  {
   "cell_type": "markdown",
   "metadata": {},
   "source": [
    "## Email Analysis"
   ]
  },
  {
   "cell_type": "code",
   "execution_count": null,
   "metadata": {},
   "source": [
    "if results_df is not None:\n",
    "    # Get rows with actual emails\n",
    "    email_rows = results_df[~results_df['Emails'].str.startswith(('No ', 'Error'))]\n",
    "    \n",
    "    if len(email_rows) > 0:\n",
    "        # Calculate average emails per company\n",
    "        avg_emails = email_rows['Emails'].str.count(',').mean() + 1\n",
    "        \n",
    "        # Find companies with most emails\n",
    "        email_counts = email_rows['Emails'].str.count(',') + 1\n",
    "        top_companies = pd.DataFrame({\n",
    "            'Company': email_rows['Company'],\n",
    "            'Email Count': email_counts\n",
    "        }).sort_values('Email Count', ascending=False).head(10)\n",
    "        \n",
    "        print(f\"\\nEmail Statistics:\")\n",
    "        print(f\"Average emails per company: {avg_emails:.1f}\")\n",
    "        print(f\"\\nTop 10 Companies by Number of Emails Found:\")\n",
    "        display(top_companies)"
   ]
  }
 ],
 "metadata": {
  "kernelspec": {
   "display_name": "Python 3",
   "language": "python",
   "name": "python3"
  }
 },
 "nbformat": 4,
 "nbformat_minor": 4
}
